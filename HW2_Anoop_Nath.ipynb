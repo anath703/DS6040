{
 "cells": [
  {
   "cell_type": "code",
   "execution_count": 1,
   "id": "166a35ce-0871-4cb4-8381-f1d2585d25fc",
   "metadata": {},
   "outputs": [],
   "source": [
    "import pandas as pd\n",
    "import numpy as np\n",
    "from scipy.stats import multivariate_normal\n",
    "import matplotlib.pyplot as plt\n",
    "import seaborn as sns\n",
    "sns.set_theme(style=\"ticks\")\n",
    "wine= pd.read_csv(\"whitewine-training-ds6040.csv\")\n",
    "wine_test= pd.read_csv(\"whitewine-testing-ds6040.csv\")"
   ]
  },
  {
   "cell_type": "code",
   "execution_count": 2,
   "id": "eab6d7fc-6ea8-4597-a617-78b86b25fe5b",
   "metadata": {},
   "outputs": [],
   "source": [
    "class LDA():\n",
    "    def __init__(self, dataset, class_var, priors = None):\n",
    "        n_class = len(dataset[class_var].unique())\n",
    "        if priors is None:\n",
    "            priors = np.repeat(1/n_class, n_class)\n",
    "        self.priors =  np.asarray(priors)\n",
    "        self.means = dataset.groupby(class_var).mean()\n",
    "        self.sigma = dataset.cov()\n",
    "        self.class_var = class_var\n",
    "        self.training_data = dataset\n",
    "    def predict_probs(self, data = None):\n",
    "        if data is None:\n",
    "            data = self.training_data\n",
    "        data_temp = data.drop(self.class_var, axis = 1)\n",
    "        dens_list = []\n",
    "        col_names = []\n",
    "        for ind, row in self.means.iterrows():\n",
    "            col_names.append(ind)\n",
    "            dens_list.append(multivariate_normal.pdf(data_temp, mean = np.asarray(row), cov = self.sigma))\n",
    "        dens_list = pd.DataFrame(np.transpose(np.vstack(dens_list)),columns= col_names)\n",
    "        dens_list = dens_list.mul(self.priors, axis=1)\n",
    "        dens_list = dens_list.div(dens_list.sum(axis=1), axis=0)\n",
    "        dens_list['True Class'] = data[self.class_var]\n",
    "        return dens_list \n",
    "    def predict_MAP(self, data = None):        \n",
    "        if data is None:\n",
    "            data = self.training_data\n",
    "        dens_list = self.predict_probs(data).drop('True Class', axis = 1)\n",
    "        map_list = dens_list.idxmax(axis = 1)\n",
    "        maps = {'MAP Class': map_list}\n",
    "        maps = pd.DataFrame(maps)\n",
    "        maps['True Class'] = data[self.class_var]\n",
    "        return maps\n",
    "    def misclass_rate(self, data = None):\n",
    "        if data is None:\n",
    "            data = self.training_data\n",
    "        maps = self.predict_MAP(data = data)\n",
    "        \n",
    "        \n",
    "        maps['Mis_class'] = maps['MAP Class']  == maps['True Class']\n",
    "        \n",
    "        mis_class =  1 - maps['Mis_class'].mean()\n",
    "        \n",
    "        return mis_class\n",
    "    def misclass_xtabs(self, data = None):\n",
    "        if data is None:\n",
    "            data = self.training_data\n",
    "        maps = self.predict_MAP(data = data)\n",
    "        \n",
    "        xtabs = pd.crosstab(maps['MAP Class'], maps['True Class'])        \n",
    "        return xtabs\n",
    "    def misclass_pairplot(self, data = None):\n",
    "        if data is None:\n",
    "            data = self.training_data\n",
    "        maps = self.predict_MAP(data = data)\n",
    "        temp_dat = data.copy(deep = True)\n",
    "        temp_dat['Mis-Classified'] = maps['MAP Class']  != maps['True Class']\n",
    "        plot = sns.pairplot(temp_dat,hue=\"Mis-Classified\", height = 1.5, aspect = 1.5)   \n",
    "        return plot"
   ]
  },
  {
   "cell_type": "markdown",
   "id": "0afa2048-82d7-4877-a7e2-1444abcd870a",
   "metadata": {},
   "source": [
    "# Question 1"
   ]
  },
  {
   "cell_type": "markdown",
   "id": "5f0c7c09-5409-44bf-a2f9-4e79a85b9105",
   "metadata": {
    "tags": []
   },
   "source": [
    "## (1a) Non-informative (flat) priors on wine quality"
   ]
  },
  {
   "cell_type": "code",
   "execution_count": 3,
   "id": "ee6b3c91-21c0-4bfd-a988-2b360c12b5ab",
   "metadata": {},
   "outputs": [],
   "source": [
    "LDA_wine_flat = LDA(wine, 'wine_quality') #defualt is uniform prob for priors"
   ]
  },
  {
   "cell_type": "markdown",
   "id": "06b2e9b0-3e13-4761-8830-ec48f9dfe48c",
   "metadata": {},
   "source": [
    "### Misclassification against training set"
   ]
  },
  {
   "cell_type": "code",
   "execution_count": 4,
   "id": "e403b510-1064-43b1-8396-a8b5635a60ef",
   "metadata": {},
   "outputs": [
    {
     "data": {
      "text/plain": [
       "0.49496538703587156"
      ]
     },
     "execution_count": 4,
     "metadata": {},
     "output_type": "execute_result"
    }
   ],
   "source": [
    "LDA_wine_flat.misclass_rate()"
   ]
  },
  {
   "cell_type": "markdown",
   "id": "b441e47d-5899-4c60-aeea-2e8ba3d345f6",
   "metadata": {},
   "source": [
    "It looks like the training set misclassification is quite high at 49.5%. "
   ]
  },
  {
   "cell_type": "code",
   "execution_count": 5,
   "id": "800cff25-6792-4917-bf16-39ac1a0c631a",
   "metadata": {},
   "outputs": [
    {
     "data": {
      "text/html": [
       "<div>\n",
       "<style scoped>\n",
       "    .dataframe tbody tr th:only-of-type {\n",
       "        vertical-align: middle;\n",
       "    }\n",
       "\n",
       "    .dataframe tbody tr th {\n",
       "        vertical-align: top;\n",
       "    }\n",
       "\n",
       "    .dataframe thead th {\n",
       "        text-align: right;\n",
       "    }\n",
       "</style>\n",
       "<table border=\"1\" class=\"dataframe\">\n",
       "  <thead>\n",
       "    <tr style=\"text-align: right;\">\n",
       "      <th>True Class</th>\n",
       "      <th>A</th>\n",
       "      <th>C</th>\n",
       "      <th>F</th>\n",
       "    </tr>\n",
       "    <tr>\n",
       "      <th>MAP Class</th>\n",
       "      <th></th>\n",
       "      <th></th>\n",
       "      <th></th>\n",
       "    </tr>\n",
       "  </thead>\n",
       "  <tbody>\n",
       "    <tr>\n",
       "      <th>A</th>\n",
       "      <td>69</td>\n",
       "      <td>687</td>\n",
       "      <td>62</td>\n",
       "    </tr>\n",
       "    <tr>\n",
       "      <th>C</th>\n",
       "      <td>22</td>\n",
       "      <td>800</td>\n",
       "      <td>202</td>\n",
       "    </tr>\n",
       "    <tr>\n",
       "      <th>F</th>\n",
       "      <td>9</td>\n",
       "      <td>591</td>\n",
       "      <td>736</td>\n",
       "    </tr>\n",
       "  </tbody>\n",
       "</table>\n",
       "</div>"
      ],
      "text/plain": [
       "True Class   A    C    F\n",
       "MAP Class               \n",
       "A           69  687   62\n",
       "C           22  800  202\n",
       "F            9  591  736"
      ]
     },
     "execution_count": 5,
     "metadata": {},
     "output_type": "execute_result"
    }
   ],
   "source": [
    "LDA_wine_flat.misclass_xtabs()"
   ]
  },
  {
   "cell_type": "markdown",
   "id": "30a78ec2-f8f2-446b-987b-bb00116ff080",
   "metadata": {},
   "source": [
    "### Misclassification against test set"
   ]
  },
  {
   "cell_type": "code",
   "execution_count": 6,
   "id": "4210698d-9ba0-498b-92d9-935ab020e885",
   "metadata": {},
   "outputs": [
    {
     "data": {
      "text/plain": [
       "0.48546511627906974"
      ]
     },
     "execution_count": 6,
     "metadata": {},
     "output_type": "execute_result"
    }
   ],
   "source": [
    "LDA_wine_flat.misclass_rate(data= wine_test)"
   ]
  },
  {
   "cell_type": "code",
   "execution_count": 7,
   "id": "4aa4b23a-8eeb-4f28-8df5-f7ce0f89629c",
   "metadata": {},
   "outputs": [
    {
     "data": {
      "text/html": [
       "<div>\n",
       "<style scoped>\n",
       "    .dataframe tbody tr th:only-of-type {\n",
       "        vertical-align: middle;\n",
       "    }\n",
       "\n",
       "    .dataframe tbody tr th {\n",
       "        vertical-align: top;\n",
       "    }\n",
       "\n",
       "    .dataframe thead th {\n",
       "        text-align: right;\n",
       "    }\n",
       "</style>\n",
       "<table border=\"1\" class=\"dataframe\">\n",
       "  <thead>\n",
       "    <tr style=\"text-align: right;\">\n",
       "      <th>True Class</th>\n",
       "      <th>A</th>\n",
       "      <th>C</th>\n",
       "      <th>F</th>\n",
       "    </tr>\n",
       "    <tr>\n",
       "      <th>MAP Class</th>\n",
       "      <th></th>\n",
       "      <th></th>\n",
       "      <th></th>\n",
       "    </tr>\n",
       "  </thead>\n",
       "  <tbody>\n",
       "    <tr>\n",
       "      <th>A</th>\n",
       "      <td>56</td>\n",
       "      <td>348</td>\n",
       "      <td>43</td>\n",
       "    </tr>\n",
       "    <tr>\n",
       "      <th>C</th>\n",
       "      <td>15</td>\n",
       "      <td>381</td>\n",
       "      <td>149</td>\n",
       "    </tr>\n",
       "    <tr>\n",
       "      <th>F</th>\n",
       "      <td>9</td>\n",
       "      <td>271</td>\n",
       "      <td>448</td>\n",
       "    </tr>\n",
       "  </tbody>\n",
       "</table>\n",
       "</div>"
      ],
      "text/plain": [
       "True Class   A    C    F\n",
       "MAP Class               \n",
       "A           56  348   43\n",
       "C           15  381  149\n",
       "F            9  271  448"
      ]
     },
     "execution_count": 7,
     "metadata": {},
     "output_type": "execute_result"
    }
   ],
   "source": [
    "LDA_wine_flat.misclass_xtabs(data= wine_test)"
   ]
  },
  {
   "cell_type": "markdown",
   "id": "25fd464b-46d7-482d-a67e-afd906b75dd1",
   "metadata": {},
   "source": [
    "The misclassification rate is very high at 49.5% against the training set and 48.5% against the test set. It's interesting to note that the rate against the test set is lower than the one against the training set."
   ]
  },
  {
   "cell_type": "markdown",
   "id": "05f9abc2-9ec9-4cf6-b477-47fd637c7352",
   "metadata": {},
   "source": [
    "### (1b) Priors that reflect the observed proportion of wines at different quality levels."
   ]
  },
  {
   "cell_type": "code",
   "execution_count": 8,
   "id": "3a95c81f-716e-4e48-9e44-607a6369a173",
   "metadata": {},
   "outputs": [
    {
     "data": {
      "text/plain": [
       "C    0.653870\n",
       "F    0.314663\n",
       "A    0.031466\n",
       "Name: wine_quality, dtype: float64"
      ]
     },
     "execution_count": 8,
     "metadata": {},
     "output_type": "execute_result"
    }
   ],
   "source": [
    "wine_quality_prop = wine['wine_quality'].value_counts(normalize=True) \n",
    "wine_quality_prop "
   ]
  },
  {
   "cell_type": "code",
   "execution_count": 9,
   "id": "c8a4ca79-8970-4c26-83db-7e3b41b9115e",
   "metadata": {},
   "outputs": [],
   "source": [
    "priors_observed= [wine_quality_prop[2], wine_quality_prop[0], wine_quality_prop[1] ]"
   ]
  },
  {
   "cell_type": "code",
   "execution_count": 10,
   "id": "bb289f9d-ce74-422e-abb2-56d3c993cd3d",
   "metadata": {},
   "outputs": [],
   "source": [
    "LDA_wine_observed = LDA(wine, 'wine_quality', priors_observed) "
   ]
  },
  {
   "cell_type": "markdown",
   "id": "a3014ea8-2cd9-4ef8-ae61-d12cea8f0e37",
   "metadata": {},
   "source": [
    "### Misclassification against training set"
   ]
  },
  {
   "cell_type": "code",
   "execution_count": 11,
   "id": "ccf5101f-4fcc-4c75-ad32-11d9688d9267",
   "metadata": {},
   "outputs": [
    {
     "data": {
      "text/plain": [
       "0.28099433606041535"
      ]
     },
     "execution_count": 11,
     "metadata": {},
     "output_type": "execute_result"
    }
   ],
   "source": [
    "LDA_wine_observed.misclass_rate()"
   ]
  },
  {
   "cell_type": "code",
   "execution_count": 12,
   "id": "45f3440a-ab8a-4ef1-9e54-5772d14b8f32",
   "metadata": {},
   "outputs": [
    {
     "data": {
      "text/html": [
       "<div>\n",
       "<style scoped>\n",
       "    .dataframe tbody tr th:only-of-type {\n",
       "        vertical-align: middle;\n",
       "    }\n",
       "\n",
       "    .dataframe tbody tr th {\n",
       "        vertical-align: top;\n",
       "    }\n",
       "\n",
       "    .dataframe thead th {\n",
       "        text-align: right;\n",
       "    }\n",
       "</style>\n",
       "<table border=\"1\" class=\"dataframe\">\n",
       "  <thead>\n",
       "    <tr style=\"text-align: right;\">\n",
       "      <th>True Class</th>\n",
       "      <th>A</th>\n",
       "      <th>C</th>\n",
       "      <th>F</th>\n",
       "    </tr>\n",
       "    <tr>\n",
       "      <th>MAP Class</th>\n",
       "      <th></th>\n",
       "      <th></th>\n",
       "      <th></th>\n",
       "    </tr>\n",
       "  </thead>\n",
       "  <tbody>\n",
       "    <tr>\n",
       "      <th>A</th>\n",
       "      <td>0</td>\n",
       "      <td>0</td>\n",
       "      <td>1</td>\n",
       "    </tr>\n",
       "    <tr>\n",
       "      <th>C</th>\n",
       "      <td>100</td>\n",
       "      <td>1913</td>\n",
       "      <td>627</td>\n",
       "    </tr>\n",
       "    <tr>\n",
       "      <th>F</th>\n",
       "      <td>0</td>\n",
       "      <td>165</td>\n",
       "      <td>372</td>\n",
       "    </tr>\n",
       "  </tbody>\n",
       "</table>\n",
       "</div>"
      ],
      "text/plain": [
       "True Class    A     C    F\n",
       "MAP Class                 \n",
       "A             0     0    1\n",
       "C           100  1913  627\n",
       "F             0   165  372"
      ]
     },
     "execution_count": 12,
     "metadata": {},
     "output_type": "execute_result"
    }
   ],
   "source": [
    "LDA_wine_observed.misclass_xtabs()"
   ]
  },
  {
   "cell_type": "markdown",
   "id": "57846a36-2f14-4e0a-b3a5-217d76cd5bea",
   "metadata": {},
   "source": [
    "### Misclassification against test set"
   ]
  },
  {
   "cell_type": "code",
   "execution_count": 13,
   "id": "d3c60be3-abfc-4a8c-867d-b39542a5b8c7",
   "metadata": {},
   "outputs": [
    {
     "data": {
      "text/plain": [
       "0.32732558139534884"
      ]
     },
     "execution_count": 13,
     "metadata": {},
     "output_type": "execute_result"
    }
   ],
   "source": [
    "LDA_wine_observed.misclass_rate(data=wine_test)"
   ]
  },
  {
   "cell_type": "code",
   "execution_count": 14,
   "id": "664e6759-56d1-4da4-9d92-c839095dbea5",
   "metadata": {},
   "outputs": [
    {
     "data": {
      "text/html": [
       "<div>\n",
       "<style scoped>\n",
       "    .dataframe tbody tr th:only-of-type {\n",
       "        vertical-align: middle;\n",
       "    }\n",
       "\n",
       "    .dataframe tbody tr th {\n",
       "        vertical-align: top;\n",
       "    }\n",
       "\n",
       "    .dataframe thead th {\n",
       "        text-align: right;\n",
       "    }\n",
       "</style>\n",
       "<table border=\"1\" class=\"dataframe\">\n",
       "  <thead>\n",
       "    <tr style=\"text-align: right;\">\n",
       "      <th>True Class</th>\n",
       "      <th>A</th>\n",
       "      <th>C</th>\n",
       "      <th>F</th>\n",
       "    </tr>\n",
       "    <tr>\n",
       "      <th>MAP Class</th>\n",
       "      <th></th>\n",
       "      <th></th>\n",
       "      <th></th>\n",
       "    </tr>\n",
       "  </thead>\n",
       "  <tbody>\n",
       "    <tr>\n",
       "      <th>C</th>\n",
       "      <td>79</td>\n",
       "      <td>923</td>\n",
       "      <td>406</td>\n",
       "    </tr>\n",
       "    <tr>\n",
       "      <th>F</th>\n",
       "      <td>1</td>\n",
       "      <td>77</td>\n",
       "      <td>234</td>\n",
       "    </tr>\n",
       "  </tbody>\n",
       "</table>\n",
       "</div>"
      ],
      "text/plain": [
       "True Class   A    C    F\n",
       "MAP Class               \n",
       "C           79  923  406\n",
       "F            1   77  234"
      ]
     },
     "execution_count": 14,
     "metadata": {},
     "output_type": "execute_result"
    }
   ],
   "source": [
    "LDA_wine_observed.misclass_xtabs(data=wine_test)"
   ]
  },
  {
   "cell_type": "markdown",
   "id": "3a32b859-576e-473d-a678-acc875f610da",
   "metadata": {},
   "source": [
    "The misclassification rate when using the observed proportion for the prior was 28% against the training set and 32.7% against the test set. It was interesting to note that there was only one prediction for wine quality A in the training set and no predictions for it in the test set. This is undestandable as the prior for quality A was only around 3%."
   ]
  },
  {
   "cell_type": "markdown",
   "id": "71b19b21-7b4e-461d-b4e9-f84d1586669f",
   "metadata": {},
   "source": [
    "### (1c) Priors that reflect the notion that most wines are awful, some wines are average, and few wines are good "
   ]
  },
  {
   "cell_type": "code",
   "execution_count": 15,
   "id": "4d121e24-b442-431f-9676-c51b033a5d18",
   "metadata": {},
   "outputs": [],
   "source": [
    "LDA_wine_1c = LDA(wine, 'wine_quality', [.10, .25, .65])"
   ]
  },
  {
   "cell_type": "markdown",
   "id": "f05cef5f-d515-464c-982b-d08180617af9",
   "metadata": {},
   "source": [
    "### Misclassification against training set"
   ]
  },
  {
   "cell_type": "code",
   "execution_count": 16,
   "id": "fc4ba60f-b434-4f70-b062-cc675d2e0d7b",
   "metadata": {},
   "outputs": [
    {
     "data": {
      "text/plain": [
       "0.5245437382001259"
      ]
     },
     "execution_count": 16,
     "metadata": {},
     "output_type": "execute_result"
    }
   ],
   "source": [
    "LDA_wine_1c.misclass_rate()"
   ]
  },
  {
   "cell_type": "code",
   "execution_count": 17,
   "id": "cfd1ef61-1fa7-47e6-965f-6c27905e0f68",
   "metadata": {},
   "outputs": [
    {
     "data": {
      "text/html": [
       "<div>\n",
       "<style scoped>\n",
       "    .dataframe tbody tr th:only-of-type {\n",
       "        vertical-align: middle;\n",
       "    }\n",
       "\n",
       "    .dataframe tbody tr th {\n",
       "        vertical-align: top;\n",
       "    }\n",
       "\n",
       "    .dataframe thead th {\n",
       "        text-align: right;\n",
       "    }\n",
       "</style>\n",
       "<table border=\"1\" class=\"dataframe\">\n",
       "  <thead>\n",
       "    <tr style=\"text-align: right;\">\n",
       "      <th>True Class</th>\n",
       "      <th>A</th>\n",
       "      <th>C</th>\n",
       "      <th>F</th>\n",
       "    </tr>\n",
       "    <tr>\n",
       "      <th>MAP Class</th>\n",
       "      <th></th>\n",
       "      <th></th>\n",
       "      <th></th>\n",
       "    </tr>\n",
       "  </thead>\n",
       "  <tbody>\n",
       "    <tr>\n",
       "      <th>A</th>\n",
       "      <td>28</td>\n",
       "      <td>137</td>\n",
       "      <td>4</td>\n",
       "    </tr>\n",
       "    <tr>\n",
       "      <th>C</th>\n",
       "      <td>34</td>\n",
       "      <td>540</td>\n",
       "      <td>53</td>\n",
       "    </tr>\n",
       "    <tr>\n",
       "      <th>F</th>\n",
       "      <td>38</td>\n",
       "      <td>1401</td>\n",
       "      <td>943</td>\n",
       "    </tr>\n",
       "  </tbody>\n",
       "</table>\n",
       "</div>"
      ],
      "text/plain": [
       "True Class   A     C    F\n",
       "MAP Class                \n",
       "A           28   137    4\n",
       "C           34   540   53\n",
       "F           38  1401  943"
      ]
     },
     "execution_count": 17,
     "metadata": {},
     "output_type": "execute_result"
    }
   ],
   "source": [
    "LDA_wine_1c.misclass_xtabs()"
   ]
  },
  {
   "cell_type": "markdown",
   "id": "5b8cf743-b8f8-4824-9308-265e0d38540f",
   "metadata": {},
   "source": [
    "### Misclassification against test set"
   ]
  },
  {
   "cell_type": "code",
   "execution_count": 18,
   "id": "d908ab2d-5271-4e21-94ef-070648573424",
   "metadata": {},
   "outputs": [
    {
     "data": {
      "text/plain": [
       "0.4767441860465116"
      ]
     },
     "execution_count": 18,
     "metadata": {},
     "output_type": "execute_result"
    }
   ],
   "source": [
    "LDA_wine_1c.misclass_rate(data= wine_test)"
   ]
  },
  {
   "cell_type": "code",
   "execution_count": 19,
   "id": "259c9a7b-22fd-4a4e-97f1-06f45c44fc22",
   "metadata": {},
   "outputs": [
    {
     "data": {
      "text/html": [
       "<div>\n",
       "<style scoped>\n",
       "    .dataframe tbody tr th:only-of-type {\n",
       "        vertical-align: middle;\n",
       "    }\n",
       "\n",
       "    .dataframe tbody tr th {\n",
       "        vertical-align: top;\n",
       "    }\n",
       "\n",
       "    .dataframe thead th {\n",
       "        text-align: right;\n",
       "    }\n",
       "</style>\n",
       "<table border=\"1\" class=\"dataframe\">\n",
       "  <thead>\n",
       "    <tr style=\"text-align: right;\">\n",
       "      <th>True Class</th>\n",
       "      <th>A</th>\n",
       "      <th>C</th>\n",
       "      <th>F</th>\n",
       "    </tr>\n",
       "    <tr>\n",
       "      <th>MAP Class</th>\n",
       "      <th></th>\n",
       "      <th></th>\n",
       "      <th></th>\n",
       "    </tr>\n",
       "  </thead>\n",
       "  <tbody>\n",
       "    <tr>\n",
       "      <th>A</th>\n",
       "      <td>20</td>\n",
       "      <td>79</td>\n",
       "      <td>2</td>\n",
       "    </tr>\n",
       "    <tr>\n",
       "      <th>C</th>\n",
       "      <td>29</td>\n",
       "      <td>269</td>\n",
       "      <td>27</td>\n",
       "    </tr>\n",
       "    <tr>\n",
       "      <th>F</th>\n",
       "      <td>31</td>\n",
       "      <td>652</td>\n",
       "      <td>611</td>\n",
       "    </tr>\n",
       "  </tbody>\n",
       "</table>\n",
       "</div>"
      ],
      "text/plain": [
       "True Class   A    C    F\n",
       "MAP Class               \n",
       "A           20   79    2\n",
       "C           29  269   27\n",
       "F           31  652  611"
      ]
     },
     "execution_count": 19,
     "metadata": {},
     "output_type": "execute_result"
    }
   ],
   "source": [
    "LDA_wine_1c.misclass_xtabs(data = wine_test)"
   ]
  },
  {
   "cell_type": "markdown",
   "id": "c9eca8e6-cee2-4961-bade-bf9ab4113620",
   "metadata": {},
   "source": [
    "Similar to the non-informative priors, these predictoins also resulted in very high misclassification rates. The rates were 52.5% against the training set and 47.7% against the test set. These priors seem to be no better than a non-informative prior and much worse than priors based on the observed proportion."
   ]
  },
  {
   "cell_type": "markdown",
   "id": "886a9514-a594-4f17-9a34-d7f8627d1e35",
   "metadata": {},
   "source": [
    "### (1d) Priors that somebody with terrible taste in wine would use (i.e. most wines are good, few wines are bad or average)"
   ]
  },
  {
   "cell_type": "code",
   "execution_count": 20,
   "id": "33e6728b-ce55-49be-b1c6-1c36fdec1bdf",
   "metadata": {},
   "outputs": [],
   "source": [
    "LDA_wine_1d = LDA(wine, 'wine_quality', [.6, .2, .2])"
   ]
  },
  {
   "cell_type": "markdown",
   "id": "3c348930-68f4-41a8-b846-b79b47457701",
   "metadata": {},
   "source": [
    "### Misclassification against training set"
   ]
  },
  {
   "cell_type": "code",
   "execution_count": 21,
   "id": "45e3d516-13f0-4648-8817-a1455827962f",
   "metadata": {},
   "outputs": [
    {
     "data": {
      "text/plain": [
       "0.7407174323473883"
      ]
     },
     "execution_count": 21,
     "metadata": {},
     "output_type": "execute_result"
    }
   ],
   "source": [
    "LDA_wine_1d.misclass_rate()"
   ]
  },
  {
   "cell_type": "code",
   "execution_count": 22,
   "id": "c1d26810-e63f-4ef2-b935-5bb74892803c",
   "metadata": {},
   "outputs": [
    {
     "data": {
      "text/html": [
       "<div>\n",
       "<style scoped>\n",
       "    .dataframe tbody tr th:only-of-type {\n",
       "        vertical-align: middle;\n",
       "    }\n",
       "\n",
       "    .dataframe tbody tr th {\n",
       "        vertical-align: top;\n",
       "    }\n",
       "\n",
       "    .dataframe thead th {\n",
       "        text-align: right;\n",
       "    }\n",
       "</style>\n",
       "<table border=\"1\" class=\"dataframe\">\n",
       "  <thead>\n",
       "    <tr style=\"text-align: right;\">\n",
       "      <th>True Class</th>\n",
       "      <th>A</th>\n",
       "      <th>C</th>\n",
       "      <th>F</th>\n",
       "    </tr>\n",
       "    <tr>\n",
       "      <th>MAP Class</th>\n",
       "      <th></th>\n",
       "      <th></th>\n",
       "      <th></th>\n",
       "    </tr>\n",
       "  </thead>\n",
       "  <tbody>\n",
       "    <tr>\n",
       "      <th>A</th>\n",
       "      <td>87</td>\n",
       "      <td>1537</td>\n",
       "      <td>330</td>\n",
       "    </tr>\n",
       "    <tr>\n",
       "      <th>C</th>\n",
       "      <td>4</td>\n",
       "      <td>94</td>\n",
       "      <td>27</td>\n",
       "    </tr>\n",
       "    <tr>\n",
       "      <th>F</th>\n",
       "      <td>9</td>\n",
       "      <td>447</td>\n",
       "      <td>643</td>\n",
       "    </tr>\n",
       "  </tbody>\n",
       "</table>\n",
       "</div>"
      ],
      "text/plain": [
       "True Class   A     C    F\n",
       "MAP Class                \n",
       "A           87  1537  330\n",
       "C            4    94   27\n",
       "F            9   447  643"
      ]
     },
     "execution_count": 22,
     "metadata": {},
     "output_type": "execute_result"
    }
   ],
   "source": [
    "LDA_wine_1d.misclass_xtabs()"
   ]
  },
  {
   "cell_type": "markdown",
   "id": "9c9fd569-9a5e-4a5b-9a32-f79683b4fd19",
   "metadata": {},
   "source": [
    "### Misclassification against training set"
   ]
  },
  {
   "cell_type": "code",
   "execution_count": 23,
   "id": "61f0586f-d738-4f37-80a7-b37047cd589f",
   "metadata": {},
   "outputs": [
    {
     "data": {
      "text/plain": [
       "0.7203488372093023"
      ]
     },
     "execution_count": 23,
     "metadata": {},
     "output_type": "execute_result"
    }
   ],
   "source": [
    "LDA_wine_1d.misclass_rate(data= wine_test)"
   ]
  },
  {
   "cell_type": "code",
   "execution_count": 24,
   "id": "d6e2e60a-4759-4934-9452-69fe4d023b83",
   "metadata": {},
   "outputs": [
    {
     "data": {
      "text/html": [
       "<div>\n",
       "<style scoped>\n",
       "    .dataframe tbody tr th:only-of-type {\n",
       "        vertical-align: middle;\n",
       "    }\n",
       "\n",
       "    .dataframe tbody tr th {\n",
       "        vertical-align: top;\n",
       "    }\n",
       "\n",
       "    .dataframe thead th {\n",
       "        text-align: right;\n",
       "    }\n",
       "</style>\n",
       "<table border=\"1\" class=\"dataframe\">\n",
       "  <thead>\n",
       "    <tr style=\"text-align: right;\">\n",
       "      <th>True Class</th>\n",
       "      <th>A</th>\n",
       "      <th>C</th>\n",
       "      <th>F</th>\n",
       "    </tr>\n",
       "    <tr>\n",
       "      <th>MAP Class</th>\n",
       "      <th></th>\n",
       "      <th></th>\n",
       "      <th></th>\n",
       "    </tr>\n",
       "  </thead>\n",
       "  <tbody>\n",
       "    <tr>\n",
       "      <th>A</th>\n",
       "      <td>72</td>\n",
       "      <td>756</td>\n",
       "      <td>230</td>\n",
       "    </tr>\n",
       "    <tr>\n",
       "      <th>C</th>\n",
       "      <td>0</td>\n",
       "      <td>35</td>\n",
       "      <td>36</td>\n",
       "    </tr>\n",
       "    <tr>\n",
       "      <th>F</th>\n",
       "      <td>8</td>\n",
       "      <td>209</td>\n",
       "      <td>374</td>\n",
       "    </tr>\n",
       "  </tbody>\n",
       "</table>\n",
       "</div>"
      ],
      "text/plain": [
       "True Class   A    C    F\n",
       "MAP Class               \n",
       "A           72  756  230\n",
       "C            0   35   36\n",
       "F            8  209  374"
      ]
     },
     "execution_count": 24,
     "metadata": {},
     "output_type": "execute_result"
    }
   ],
   "source": [
    "LDA_wine_1d.misclass_xtabs(data = wine_test)"
   ]
  },
  {
   "cell_type": "markdown",
   "id": "d11f4996-7eaa-4bef-a853-531ff81e1d0e",
   "metadata": {},
   "source": [
    "The misclassification rate using these priors is extremeley high at 74.1% against the training set and 72% agianst the test set. Looking at the cross-tabs table, it's evident that the model is over predicting class \"A\" when in reality, that class is the smallest in both the trainig and test set."
   ]
  },
  {
   "cell_type": "markdown",
   "id": "f5d90739-de15-45d3-a87c-c1345ac2cc10",
   "metadata": {},
   "source": [
    "# Question 2"
   ]
  },
  {
   "cell_type": "code",
   "execution_count": 25,
   "id": "51c26c9d-fa8a-4401-8f10-2b50e9b91ee4",
   "metadata": {},
   "outputs": [],
   "source": [
    "from itertools import combinations"
   ]
  },
  {
   "cell_type": "code",
   "execution_count": 26,
   "id": "58cab30c-a49b-4919-aa7d-248ee0fc0d24",
   "metadata": {},
   "outputs": [],
   "source": [
    "cols_list= wine.columns[:-1]"
   ]
  },
  {
   "cell_type": "code",
   "execution_count": 27,
   "id": "79a60fc8-9f9d-4fa7-ad17-ccbf882eff62",
   "metadata": {},
   "outputs": [],
   "source": [
    "list_combos = list(combinations(cols_list, 3))"
   ]
  },
  {
   "cell_type": "code",
   "execution_count": 28,
   "id": "d224d8cc-10a8-4c33-b9b4-d0d77f791e66",
   "metadata": {},
   "outputs": [
    {
     "data": {
      "text/plain": [
       "165"
      ]
     },
     "execution_count": 28,
     "metadata": {},
     "output_type": "execute_result"
    }
   ],
   "source": [
    "len(list_combos)"
   ]
  },
  {
   "cell_type": "markdown",
   "id": "fde501ea-3f2e-4d14-b264-b6f3701b4f8d",
   "metadata": {},
   "source": [
    "## (2a)"
   ]
  },
  {
   "cell_type": "markdown",
   "id": "539e7280-a669-450b-b93c-dce8bb857ee4",
   "metadata": {},
   "source": [
    "### Misclassification rate against the training set"
   ]
  },
  {
   "cell_type": "code",
   "execution_count": 62,
   "id": "030b8806-0519-4a98-a469-66a2462a9776",
   "metadata": {},
   "outputs": [],
   "source": [
    "missclass_dict= {} #dictionary to hold misclass rate for each combo"
   ]
  },
  {
   "cell_type": "code",
   "execution_count": 63,
   "id": "e695c7fe-2df3-46aa-bc3d-cb07c5abeb8b",
   "metadata": {},
   "outputs": [],
   "source": [
    "for combo in list_combos:\n",
    "    '''\n",
    "        iterates through each combo, calculates misclass rate and stores in dictionary\n",
    "    '''\n",
    "    combo_list = list(combo)\n",
    "    combo_list.append('wine_quality')\n",
    "    combo_df= wine[combo_list]\n",
    "    LDA_flat = LDA(combo_df, 'wine_quality') #defualt is uniform prob for priors\n",
    "    misclass_rate = LDA_flat.misclass_rate()\n",
    "    missclass_dict[combo] = misclass_rate"
   ]
  },
  {
   "cell_type": "code",
   "execution_count": 64,
   "id": "0e8a2d3d-0d34-46d8-95f8-a0f25fc8e69c",
   "metadata": {},
   "outputs": [
    {
     "data": {
      "text/plain": [
       "{('volatile.acidity', 'residual.sugar', 'alcohol'): 0.5050346129641283,\n",
       " ('volatile.acidity', 'density', 'alcohol'): 0.5106985525487728,\n",
       " ('volatile.acidity', 'pH', 'alcohol'): 0.5204531151667715,\n",
       " ('volatile.acidity', 'citric.acid', 'alcohol'): 0.5232850849590938,\n",
       " ('volatile.acidity', 'free.sulfur.dioxide', 'alcohol'): 0.5232850849590938,\n",
       " ('volatile.acidity', 'total.sulfur.dioxide', 'alcohol'): 0.5235997482693517,\n",
       " ('volatile.acidity', 'sulphates', 'alcohol'): 0.5242290748898679,\n",
       " ('volatile.acidity', 'chlorides', 'alcohol'): 0.5254877281309,\n",
       " ('volatile.acidity', 'residual.sugar', 'density'): 0.526431718061674,\n",
       " ('fixed.acidity', 'volatile.acidity', 'alcohol'): 0.5280050346129641,\n",
       " ('volatile.acidity', 'citric.acid', 'sulphates'): 0.5305223410950284,\n",
       " ('volatile.acidity', 'chlorides', 'sulphates'): 0.5380742605412209,\n",
       " ('volatile.acidity', 'citric.acid', 'chlorides'): 0.5415355569540592,\n",
       " ('volatile.acidity', 'chlorides', 'pH'): 0.5424795468848332,\n",
       " ('volatile.acidity', 'chlorides', 'free.sulfur.dioxide'): 0.5465701699181875,\n",
       " ('residual.sugar', 'pH', 'alcohol'): 0.5484581497797356,\n",
       " ('volatile.acidity', 'free.sulfur.dioxide', 'sulphates'): 0.5497168030207678,\n",
       " ('residual.sugar', 'total.sulfur.dioxide', 'alcohol'): 0.552234109502832,\n",
       " ('density', 'pH', 'alcohol'): 0.5547514159848961,\n",
       " ('chlorides', 'density', 'alcohol'): 0.5550660792951542,\n",
       " ('free.sulfur.dioxide',\n",
       "  'total.sulfur.dioxide',\n",
       "  'alcohol'): 0.5556954059156702,\n",
       " ('residual.sugar', 'sulphates', 'alcohol'): 0.5563247325361863,\n",
       " ('residual.sugar', 'free.sulfur.dioxide', 'alcohol'): 0.5585273757079925,\n",
       " ('residual.sugar', 'chlorides', 'alcohol'): 0.5591567023285084,\n",
       " ('total.sulfur.dioxide', 'density', 'alcohol'): 0.5591567023285084,\n",
       " ('citric.acid', 'density', 'alcohol'): 0.5594713656387665,\n",
       " ('free.sulfur.dioxide', 'density', 'alcohol'): 0.5597860289490245,\n",
       " ('fixed.acidity', 'free.sulfur.dioxide', 'alcohol'): 0.5601006922592826,\n",
       " ('free.sulfur.dioxide', 'pH', 'alcohol'): 0.5601006922592826,\n",
       " ('density', 'sulphates', 'alcohol'): 0.5604153555695406,\n",
       " ('fixed.acidity', 'density', 'alcohol'): 0.5610446821900567,\n",
       " ('residual.sugar', 'density', 'pH'): 0.5613593455003147,\n",
       " ('volatile.acidity',\n",
       "  'citric.acid',\n",
       "  'free.sulfur.dioxide'): 0.5635619886721208,\n",
       " ('fixed.acidity', 'residual.sugar', 'alcohol'): 0.5638766519823788,\n",
       " ('total.sulfur.dioxide', 'sulphates', 'alcohol'): 0.5641913152926369,\n",
       " ('citric.acid', 'residual.sugar', 'alcohol'): 0.564505978602895,\n",
       " ('chlorides', 'pH', 'alcohol'): 0.564820641913153,\n",
       " ('chlorides', 'free.sulfur.dioxide', 'alcohol'): 0.5651353052234109,\n",
       " ('free.sulfur.dioxide', 'sulphates', 'alcohol'): 0.5651353052234109,\n",
       " ('citric.acid', 'free.sulfur.dioxide', 'alcohol'): 0.5660792951541851,\n",
       " ('total.sulfur.dioxide', 'pH', 'alcohol'): 0.5673379483952171,\n",
       " ('fixed.acidity', 'total.sulfur.dioxide', 'alcohol'): 0.5679672750157332,\n",
       " ('volatile.acidity', 'free.sulfur.dioxide', 'density'): 0.5679672750157332,\n",
       " ('citric.acid', 'pH', 'alcohol'): 0.5682819383259912,\n",
       " ('chlorides', 'total.sulfur.dioxide', 'alcohol'): 0.5695405915670233,\n",
       " ('fixed.acidity', 'volatile.acidity', 'chlorides'): 0.5698552548772813,\n",
       " ('chlorides', 'sulphates', 'alcohol'): 0.5698552548772813,\n",
       " ('pH', 'sulphates', 'alcohol'): 0.5701699181875393,\n",
       " ('fixed.acidity', 'pH', 'alcohol'): 0.5704845814977973,\n",
       " ('fixed.acidity', 'sulphates', 'alcohol'): 0.5704845814977973,\n",
       " ('volatile.acidity', 'residual.sugar', 'chlorides'): 0.5714285714285714,\n",
       " ('citric.acid', 'sulphates', 'alcohol'): 0.5717432347388294,\n",
       " ('fixed.acidity', 'chlorides', 'alcohol'): 0.5739458779106357,\n",
       " ('fixed.acidity', 'citric.acid', 'alcohol'): 0.5748898678414097,\n",
       " ('residual.sugar', 'density', 'alcohol'): 0.5748898678414097,\n",
       " ('citric.acid', 'chlorides', 'alcohol'): 0.5770925110132159,\n",
       " ('citric.acid', 'total.sulfur.dioxide', 'alcohol'): 0.5777218376337319,\n",
       " ('volatile.acidity', 'citric.acid', 'pH'): 0.578665827564506,\n",
       " ('volatile.acidity', 'pH', 'sulphates'): 0.5805538074260541,\n",
       " ('volatile.acidity', 'free.sulfur.dioxide', 'pH'): 0.5808684707363121,\n",
       " ('volatile.acidity', 'chlorides', 'total.sulfur.dioxide'): 0.5833857772183764,\n",
       " ('volatile.acidity', 'residual.sugar', 'pH'): 0.5843297671491504,\n",
       " ('volatile.acidity', 'chlorides', 'density'): 0.5843297671491504,\n",
       " ('volatile.acidity',\n",
       "  'residual.sugar',\n",
       "  'free.sulfur.dioxide'): 0.5849590937696665,\n",
       " ('residual.sugar', 'free.sulfur.dioxide', 'density'): 0.5865324103209566,\n",
       " ('volatile.acidity', 'residual.sugar', 'sulphates'): 0.5881057268722467,\n",
       " ('citric.acid', 'residual.sugar', 'density'): 0.5881057268722467,\n",
       " ('residual.sugar', 'total.sulfur.dioxide', 'density'): 0.5881057268722467,\n",
       " ('residual.sugar', 'density', 'sulphates'): 0.5903083700440528,\n",
       " ('fixed.acidity', 'volatile.acidity', 'pH'): 0.5918816865953429,\n",
       " ('residual.sugar', 'chlorides', 'density'): 0.5925110132158591,\n",
       " ('fixed.acidity', 'volatile.acidity', 'density'): 0.593455003146633,\n",
       " ('volatile.acidity', 'citric.acid', 'residual.sugar'): 0.5956576463184393,\n",
       " ('volatile.acidity', 'density', 'pH'): 0.5962869729389553,\n",
       " ('volatile.acidity', 'total.sulfur.dioxide', 'density'): 0.5966016362492134,\n",
       " ('fixed.acidity', 'residual.sugar', 'density'): 0.5978602894902454,\n",
       " ('fixed.acidity', 'volatile.acidity', 'sulphates'): 0.5988042794210195,\n",
       " ('fixed.acidity', 'volatile.acidity', 'citric.acid'): 0.6010069225928256,\n",
       " ('fixed.acidity',\n",
       "  'volatile.acidity',\n",
       "  'free.sulfur.dioxide'): 0.6013215859030837,\n",
       " ('volatile.acidity', 'citric.acid', 'density'): 0.6013215859030837,\n",
       " ('volatile.acidity', 'total.sulfur.dioxide', 'pH'): 0.6013215859030837,\n",
       " ('volatile.acidity', 'density', 'sulphates'): 0.605726872246696,\n",
       " ('volatile.acidity',\n",
       "  'free.sulfur.dioxide',\n",
       "  'total.sulfur.dioxide'): 0.6069855254877281,\n",
       " ('volatile.acidity', 'total.sulfur.dioxide', 'sulphates'): 0.6107614852108244,\n",
       " ('fixed.acidity',\n",
       "  'volatile.acidity',\n",
       "  'total.sulfur.dioxide'): 0.6129641283826306,\n",
       " ('fixed.acidity', 'volatile.acidity', 'residual.sugar'): 0.6142227816236627,\n",
       " ('volatile.acidity',\n",
       "  'citric.acid',\n",
       "  'total.sulfur.dioxide'): 0.6157960981749528,\n",
       " ('chlorides', 'free.sulfur.dioxide', 'density'): 0.6167400881057269,\n",
       " ('free.sulfur.dioxide',\n",
       "  'total.sulfur.dioxide',\n",
       "  'density'): 0.6170547514159849,\n",
       " ('volatile.acidity',\n",
       "  'residual.sugar',\n",
       "  'total.sulfur.dioxide'): 0.6224040276903713,\n",
       " ('free.sulfur.dioxide', 'density', 'sulphates'): 0.6249213341724356,\n",
       " ('chlorides', 'free.sulfur.dioxide', 'sulphates'): 0.6255506607929515,\n",
       " ('free.sulfur.dioxide', 'density', 'pH'): 0.6274386406544996,\n",
       " ('citric.acid', 'free.sulfur.dioxide', 'density'): 0.6286972938955318,\n",
       " ('chlorides', 'pH', 'sulphates'): 0.6308999370673379,\n",
       " ('citric.acid', 'chlorides', 'free.sulfur.dioxide'): 0.6340465701699182,\n",
       " ('fixed.acidity', 'free.sulfur.dioxide', 'density'): 0.6343612334801763,\n",
       " ('chlorides', 'free.sulfur.dioxide', 'pH'): 0.6375078665827565,\n",
       " ('chlorides',\n",
       "  'free.sulfur.dioxide',\n",
       "  'total.sulfur.dioxide'): 0.6378225298930145,\n",
       " ('residual.sugar', 'chlorides', 'pH'): 0.6384518565135305,\n",
       " ('fixed.acidity', 'chlorides', 'free.sulfur.dioxide'): 0.6393958464443046,\n",
       " ('fixed.acidity', 'chlorides', 'pH'): 0.6431718061674009,\n",
       " ('citric.acid', 'chlorides', 'pH'): 0.6444304594084329,\n",
       " ('citric.acid', 'chlorides', 'sulphates'): 0.6472624292007552,\n",
       " ('residual.sugar', 'chlorides', 'free.sulfur.dioxide'): 0.6488357457520453,\n",
       " ('chlorides', 'total.sulfur.dioxide', 'pH'): 0.6494650723725613,\n",
       " ('free.sulfur.dioxide', 'total.sulfur.dioxide', 'pH'): 0.6494650723725613,\n",
       " ('chlorides', 'total.sulfur.dioxide', 'density'): 0.6519823788546255,\n",
       " ('citric.acid', 'free.sulfur.dioxide', 'sulphates'): 0.6532410320956576,\n",
       " ('fixed.acidity', 'density', 'pH'): 0.6535556954059156,\n",
       " ('chlorides', 'density', 'pH'): 0.6538703587161737,\n",
       " ('fixed.acidity', 'chlorides', 'density'): 0.6548143486469478,\n",
       " ('fixed.acidity', 'total.sulfur.dioxide', 'density'): 0.6567023285084959,\n",
       " ('total.sulfur.dioxide', 'pH', 'sulphates'): 0.6567023285084959,\n",
       " ('total.sulfur.dioxide', 'density', 'pH'): 0.65764631843927,\n",
       " ('citric.acid', 'chlorides', 'density'): 0.6589049716803022,\n",
       " ('fixed.acidity', 'chlorides', 'total.sulfur.dioxide'): 0.6592196349905601,\n",
       " ('residual.sugar',\n",
       "  'free.sulfur.dioxide',\n",
       "  'total.sulfur.dioxide'): 0.6604782882315923,\n",
       " ('chlorides', 'density', 'sulphates'): 0.6607929515418502,\n",
       " ('fixed.acidity', 'citric.acid', 'density'): 0.6623662680931404,\n",
       " ('residual.sugar', 'total.sulfur.dioxide', 'pH'): 0.6626809314033983,\n",
       " ('fixed.acidity', 'total.sulfur.dioxide', 'pH'): 0.6639395846444305,\n",
       " ('fixed.acidity', 'chlorides', 'sulphates'): 0.6648835745752045,\n",
       " ('citric.acid', 'density', 'pH'): 0.6648835745752045,\n",
       " ('citric.acid', 'residual.sugar', 'free.sulfur.dioxide'): 0.6655129011957206,\n",
       " ('fixed.acidity',\n",
       "  'free.sulfur.dioxide',\n",
       "  'total.sulfur.dioxide'): 0.6661422278162366,\n",
       " ('citric.acid',\n",
       "  'free.sulfur.dioxide',\n",
       "  'total.sulfur.dioxide'): 0.6664568911264946,\n",
       " ('citric.acid', 'total.sulfur.dioxide', 'density'): 0.6664568911264946,\n",
       " ('residual.sugar', 'free.sulfur.dioxide', 'sulphates'): 0.6664568911264946,\n",
       " ('density', 'pH', 'sulphates'): 0.6677155443675267,\n",
       " ('citric.acid', 'residual.sugar', 'pH'): 0.6683448709880428,\n",
       " ('residual.sugar', 'free.sulfur.dioxide', 'pH'): 0.6692888609188168,\n",
       " ('fixed.acidity', 'residual.sugar', 'chlorides'): 0.6696035242290749,\n",
       " ('total.sulfur.dioxide', 'density', 'sulphates'): 0.6696035242290749,\n",
       " ('fixed.acidity', 'density', 'sulphates'): 0.669918187539333,\n",
       " ('free.sulfur.dioxide',\n",
       "  'total.sulfur.dioxide',\n",
       "  'sulphates'): 0.672120830711139,\n",
       " ('fixed.acidity', 'total.sulfur.dioxide', 'sulphates'): 0.6727501573316551,\n",
       " ('citric.acid', 'total.sulfur.dioxide', 'pH'): 0.6730648206419132,\n",
       " ('citric.acid', 'density', 'sulphates'): 0.6730648206419132,\n",
       " ('residual.sugar', 'pH', 'sulphates'): 0.6736941472624292,\n",
       " ('fixed.acidity', 'citric.acid', 'chlorides'): 0.6743234738829452,\n",
       " ('chlorides', 'total.sulfur.dioxide', 'sulphates'): 0.6765261170547514,\n",
       " ('residual.sugar', 'chlorides', 'sulphates'): 0.6799874134675896,\n",
       " ('residual.sugar', 'chlorides', 'total.sulfur.dioxide'): 0.6828193832599119,\n",
       " ('citric.acid', 'chlorides', 'total.sulfur.dioxide'): 0.68470736312146,\n",
       " ('fixed.acidity',\n",
       "  'residual.sugar',\n",
       "  'free.sulfur.dioxide'): 0.6859660163624921,\n",
       " ('fixed.acidity', 'citric.acid', 'total.sulfur.dioxide'): 0.6869100062932663,\n",
       " ('fixed.acidity',\n",
       "  'residual.sugar',\n",
       "  'total.sulfur.dioxide'): 0.6875393329137822,\n",
       " ('fixed.acidity', 'residual.sugar', 'pH'): 0.6894273127753303,\n",
       " ('fixed.acidity', 'residual.sugar', 'sulphates'): 0.6928886091881686,\n",
       " ('free.sulfur.dioxide', 'pH', 'sulphates'): 0.6957205789804909,\n",
       " ('citric.acid', 'total.sulfur.dioxide', 'sulphates'): 0.6979232221522971,\n",
       " ('citric.acid', 'residual.sugar', 'chlorides'): 0.6994965387035872,\n",
       " ('citric.acid', 'residual.sugar', 'sulphates'): 0.7042164883574575,\n",
       " ('fixed.acidity', 'free.sulfur.dioxide', 'sulphates'): 0.7057898049087477,\n",
       " ('residual.sugar', 'total.sulfur.dioxide', 'sulphates'): 0.7073631214600378,\n",
       " ('citric.acid', 'free.sulfur.dioxide', 'pH'): 0.7079924480805537,\n",
       " ('fixed.acidity', 'citric.acid', 'residual.sugar'): 0.7086217747010699,\n",
       " ('fixed.acidity', 'citric.acid', 'free.sulfur.dioxide'): 0.709565764631844,\n",
       " ('citric.acid', 'pH', 'sulphates'): 0.7130270610446822,\n",
       " ('fixed.acidity', 'free.sulfur.dioxide', 'pH'): 0.7142857142857143,\n",
       " ('citric.acid', 'residual.sugar', 'total.sulfur.dioxide'): 0.7183763373190686,\n",
       " ('fixed.acidity', 'pH', 'sulphates'): 0.7208936438011329,\n",
       " ('fixed.acidity', 'citric.acid', 'sulphates'): 0.7284455632473253,\n",
       " ('fixed.acidity', 'citric.acid', 'pH'): 0.7567652611705475}"
      ]
     },
     "execution_count": 64,
     "metadata": {},
     "output_type": "execute_result"
    }
   ],
   "source": [
    "#sort di\n",
    "missclass_dict = sorted(missclass_dict.items(), key = lambda kv: kv[1])\n",
    "missclass_dict = dict(sorted_dict)\n",
    "missclass_dict\n"
   ]
  },
  {
   "cell_type": "code",
   "execution_count": null,
   "id": "a75a5d82-a1d7-4260-a4cd-d17ae3e3ecfd",
   "metadata": {},
   "outputs": [],
   "source": []
  }
 ],
 "metadata": {
  "kernelspec": {
   "display_name": "Python 3 (ipykernel)",
   "language": "python",
   "name": "python3"
  },
  "language_info": {
   "codemirror_mode": {
    "name": "ipython",
    "version": 3
   },
   "file_extension": ".py",
   "mimetype": "text/x-python",
   "name": "python",
   "nbconvert_exporter": "python",
   "pygments_lexer": "ipython3",
   "version": "3.8.8"
  }
 },
 "nbformat": 4,
 "nbformat_minor": 5
}
