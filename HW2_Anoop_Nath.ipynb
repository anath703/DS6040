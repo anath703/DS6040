{
 "cells": [
  {
   "cell_type": "code",
   "execution_count": 16,
   "id": "166a35ce-0871-4cb4-8381-f1d2585d25fc",
   "metadata": {},
   "outputs": [],
   "source": [
    "import pandas as pd\n",
    "import numpy as np\n",
    "from scipy.stats import multivariate_normal\n",
    "import matplotlib.pyplot as plt\n",
    "import seaborn as sns\n",
    "sns.set_theme(style=\"ticks\")\n",
    "wine= pd.read_csv(\"whitewine-training-ds6040.csv\")\n",
    "wine_test= pd.read_csv(\"whitewine-testing-ds6040.csv\")"
   ]
  },
  {
   "cell_type": "code",
   "execution_count": 3,
   "id": "eab6d7fc-6ea8-4597-a617-78b86b25fe5b",
   "metadata": {},
   "outputs": [],
   "source": [
    "class LDA():\n",
    "    def __init__(self, dataset, class_var, priors = None):\n",
    "        n_class = len(dataset[class_var].unique())\n",
    "        if priors is None:\n",
    "            priors = np.repeat(1/n_class, n_class)\n",
    "        self.priors =  np.asarray(priors)\n",
    "        self.means = dataset.groupby(class_var).mean()\n",
    "        self.sigma = dataset.cov()\n",
    "        self.class_var = class_var\n",
    "        self.training_data = dataset\n",
    "    def predict_probs(self, data = None):\n",
    "        if data is None:\n",
    "            data = self.training_data\n",
    "        data_temp = data.drop(self.class_var, axis = 1)\n",
    "        dens_list = []\n",
    "        col_names = []\n",
    "        for ind, row in self.means.iterrows():\n",
    "            col_names.append(ind)\n",
    "            dens_list.append(multivariate_normal.pdf(data_temp, mean = np.asarray(row), cov = self.sigma))\n",
    "        dens_list = pd.DataFrame(np.transpose(np.vstack(dens_list)),columns= col_names)\n",
    "        dens_list = dens_list.mul(self.priors, axis=1)\n",
    "        dens_list = dens_list.div(dens_list.sum(axis=1), axis=0)\n",
    "        dens_list['True Class'] = data[self.class_var]\n",
    "        return dens_list \n",
    "    def predict_MAP(self, data = None):        \n",
    "        if data is None:\n",
    "            data = self.training_data\n",
    "        dens_list = self.predict_probs(data).drop('True Class', axis = 1)\n",
    "        map_list = dens_list.idxmax(axis = 1)\n",
    "        maps = {'MAP Class': map_list}\n",
    "        maps = pd.DataFrame(maps)\n",
    "        maps['True Class'] = data[self.class_var]\n",
    "        return maps\n",
    "    def misclass_rate(self, data = None):\n",
    "        if data is None:\n",
    "            data = self.training_data\n",
    "        maps = self.predict_MAP(data = data)\n",
    "        \n",
    "        \n",
    "        maps['Mis_class'] = maps['MAP Class']  == maps['True Class']\n",
    "        \n",
    "        mis_class =  1 - maps['Mis_class'].mean()\n",
    "        \n",
    "        return mis_class\n",
    "    def misclass_xtabs(self, data = None):\n",
    "        if data is None:\n",
    "            data = self.training_data\n",
    "        maps = self.predict_MAP(data = data)\n",
    "        \n",
    "        xtabs = pd.crosstab(maps['MAP Class'], maps['True Class'])        \n",
    "        return xtabs\n",
    "    def misclass_pairplot(self, data = None):\n",
    "        if data is None:\n",
    "            data = self.training_data\n",
    "        maps = self.predict_MAP(data = data)\n",
    "        temp_dat = data.copy(deep = True)\n",
    "        temp_dat['Mis-Classified'] = maps['MAP Class']  != maps['True Class']\n",
    "        plot = sns.pairplot(temp_dat,hue=\"Mis-Classified\", height = 1.5, aspect = 1.5)   \n",
    "        return plot"
   ]
  },
  {
   "cell_type": "markdown",
   "id": "0afa2048-82d7-4877-a7e2-1444abcd870a",
   "metadata": {},
   "source": [
    "# Question 1"
   ]
  },
  {
   "cell_type": "markdown",
   "id": "5f0c7c09-5409-44bf-a2f9-4e79a85b9105",
   "metadata": {
    "tags": []
   },
   "source": [
    "## (1a) Non-informative (flat) priors on wine quality"
   ]
  },
  {
   "cell_type": "code",
   "execution_count": 7,
   "id": "ee6b3c91-21c0-4bfd-a988-2b360c12b5ab",
   "metadata": {},
   "outputs": [],
   "source": [
    "LDA_wine_flat = LDA(wine, 'wine_quality') #defualt is uniform prob for priors"
   ]
  },
  {
   "cell_type": "markdown",
   "id": "06b2e9b0-3e13-4761-8830-ec48f9dfe48c",
   "metadata": {},
   "source": [
    "### Misclassification against training set"
   ]
  },
  {
   "cell_type": "code",
   "execution_count": 10,
   "id": "e403b510-1064-43b1-8396-a8b5635a60ef",
   "metadata": {},
   "outputs": [
    {
     "data": {
      "text/plain": [
       "0.49496538703587156"
      ]
     },
     "execution_count": 10,
     "metadata": {},
     "output_type": "execute_result"
    }
   ],
   "source": [
    "LDA_wine_flat.misclass_rate()"
   ]
  },
  {
   "cell_type": "markdown",
   "id": "b441e47d-5899-4c60-aeea-2e8ba3d345f6",
   "metadata": {},
   "source": [
    "It looks like the training set misclassification is quite high at 49.5%. "
   ]
  },
  {
   "cell_type": "code",
   "execution_count": 11,
   "id": "800cff25-6792-4917-bf16-39ac1a0c631a",
   "metadata": {},
   "outputs": [
    {
     "data": {
      "text/html": [
       "<div>\n",
       "<style scoped>\n",
       "    .dataframe tbody tr th:only-of-type {\n",
       "        vertical-align: middle;\n",
       "    }\n",
       "\n",
       "    .dataframe tbody tr th {\n",
       "        vertical-align: top;\n",
       "    }\n",
       "\n",
       "    .dataframe thead th {\n",
       "        text-align: right;\n",
       "    }\n",
       "</style>\n",
       "<table border=\"1\" class=\"dataframe\">\n",
       "  <thead>\n",
       "    <tr style=\"text-align: right;\">\n",
       "      <th>True Class</th>\n",
       "      <th>A</th>\n",
       "      <th>C</th>\n",
       "      <th>F</th>\n",
       "    </tr>\n",
       "    <tr>\n",
       "      <th>MAP Class</th>\n",
       "      <th></th>\n",
       "      <th></th>\n",
       "      <th></th>\n",
       "    </tr>\n",
       "  </thead>\n",
       "  <tbody>\n",
       "    <tr>\n",
       "      <th>A</th>\n",
       "      <td>69</td>\n",
       "      <td>687</td>\n",
       "      <td>62</td>\n",
       "    </tr>\n",
       "    <tr>\n",
       "      <th>C</th>\n",
       "      <td>22</td>\n",
       "      <td>800</td>\n",
       "      <td>202</td>\n",
       "    </tr>\n",
       "    <tr>\n",
       "      <th>F</th>\n",
       "      <td>9</td>\n",
       "      <td>591</td>\n",
       "      <td>736</td>\n",
       "    </tr>\n",
       "  </tbody>\n",
       "</table>\n",
       "</div>"
      ],
      "text/plain": [
       "True Class   A    C    F\n",
       "MAP Class               \n",
       "A           69  687   62\n",
       "C           22  800  202\n",
       "F            9  591  736"
      ]
     },
     "execution_count": 11,
     "metadata": {},
     "output_type": "execute_result"
    }
   ],
   "source": [
    "LDA_wine_flat.misclass_xtabs()"
   ]
  },
  {
   "cell_type": "markdown",
   "id": "30a78ec2-f8f2-446b-987b-bb00116ff080",
   "metadata": {},
   "source": [
    "### Misclassification against test set"
   ]
  },
  {
   "cell_type": "code",
   "execution_count": 17,
   "id": "4210698d-9ba0-498b-92d9-935ab020e885",
   "metadata": {},
   "outputs": [
    {
     "data": {
      "text/plain": [
       "0.48546511627906974"
      ]
     },
     "execution_count": 17,
     "metadata": {},
     "output_type": "execute_result"
    }
   ],
   "source": [
    "LDA_wine_flat.misclass_rate(data= wine_test)"
   ]
  },
  {
   "cell_type": "code",
   "execution_count": 18,
   "id": "4aa4b23a-8eeb-4f28-8df5-f7ce0f89629c",
   "metadata": {},
   "outputs": [
    {
     "data": {
      "text/html": [
       "<div>\n",
       "<style scoped>\n",
       "    .dataframe tbody tr th:only-of-type {\n",
       "        vertical-align: middle;\n",
       "    }\n",
       "\n",
       "    .dataframe tbody tr th {\n",
       "        vertical-align: top;\n",
       "    }\n",
       "\n",
       "    .dataframe thead th {\n",
       "        text-align: right;\n",
       "    }\n",
       "</style>\n",
       "<table border=\"1\" class=\"dataframe\">\n",
       "  <thead>\n",
       "    <tr style=\"text-align: right;\">\n",
       "      <th>True Class</th>\n",
       "      <th>A</th>\n",
       "      <th>C</th>\n",
       "      <th>F</th>\n",
       "    </tr>\n",
       "    <tr>\n",
       "      <th>MAP Class</th>\n",
       "      <th></th>\n",
       "      <th></th>\n",
       "      <th></th>\n",
       "    </tr>\n",
       "  </thead>\n",
       "  <tbody>\n",
       "    <tr>\n",
       "      <th>A</th>\n",
       "      <td>56</td>\n",
       "      <td>348</td>\n",
       "      <td>43</td>\n",
       "    </tr>\n",
       "    <tr>\n",
       "      <th>C</th>\n",
       "      <td>15</td>\n",
       "      <td>381</td>\n",
       "      <td>149</td>\n",
       "    </tr>\n",
       "    <tr>\n",
       "      <th>F</th>\n",
       "      <td>9</td>\n",
       "      <td>271</td>\n",
       "      <td>448</td>\n",
       "    </tr>\n",
       "  </tbody>\n",
       "</table>\n",
       "</div>"
      ],
      "text/plain": [
       "True Class   A    C    F\n",
       "MAP Class               \n",
       "A           56  348   43\n",
       "C           15  381  149\n",
       "F            9  271  448"
      ]
     },
     "execution_count": 18,
     "metadata": {},
     "output_type": "execute_result"
    }
   ],
   "source": [
    "LDA_wine_flat.misclass_xtabs(data= wine_test)"
   ]
  },
  {
   "cell_type": "markdown",
   "id": "25fd464b-46d7-482d-a67e-afd906b75dd1",
   "metadata": {},
   "source": [
    "The misclassification rate is very high at 49.5% against the training set and 48.5% against the test set. It's interesting to note that the rate against the test set is lower than the one against the training set."
   ]
  },
  {
   "cell_type": "markdown",
   "id": "05f9abc2-9ec9-4cf6-b477-47fd637c7352",
   "metadata": {},
   "source": [
    "### (1b) Priors that reflect the observed proportion of wines at different quality levels."
   ]
  },
  {
   "cell_type": "code",
   "execution_count": 25,
   "id": "3a95c81f-716e-4e48-9e44-607a6369a173",
   "metadata": {},
   "outputs": [
    {
     "data": {
      "text/plain": [
       "C    0.653870\n",
       "F    0.314663\n",
       "A    0.031466\n",
       "Name: wine_quality, dtype: float64"
      ]
     },
     "execution_count": 25,
     "metadata": {},
     "output_type": "execute_result"
    }
   ],
   "source": [
    "wine_quality_prop = wine['wine_quality'].value_counts(normalize=True) \n",
    "wine_quality_prop "
   ]
  },
  {
   "cell_type": "code",
   "execution_count": 29,
   "id": "c8a4ca79-8970-4c26-83db-7e3b41b9115e",
   "metadata": {},
   "outputs": [],
   "source": [
    "priors_observed= [wine_quality_prop[2], wine_quality_prop[0], wine_quality_prop[1] ]"
   ]
  },
  {
   "cell_type": "code",
   "execution_count": 30,
   "id": "bb289f9d-ce74-422e-abb2-56d3c993cd3d",
   "metadata": {},
   "outputs": [],
   "source": [
    "LDA_wine_observed = LDA(wine, 'wine_quality', priors_observed) "
   ]
  },
  {
   "cell_type": "markdown",
   "id": "a3014ea8-2cd9-4ef8-ae61-d12cea8f0e37",
   "metadata": {},
   "source": [
    "### Misclassification against training set"
   ]
  },
  {
   "cell_type": "code",
   "execution_count": 32,
   "id": "ccf5101f-4fcc-4c75-ad32-11d9688d9267",
   "metadata": {},
   "outputs": [
    {
     "data": {
      "text/plain": [
       "0.28099433606041535"
      ]
     },
     "execution_count": 32,
     "metadata": {},
     "output_type": "execute_result"
    }
   ],
   "source": [
    "LDA_wine_observed.misclass_rate()"
   ]
  },
  {
   "cell_type": "code",
   "execution_count": 34,
   "id": "45f3440a-ab8a-4ef1-9e54-5772d14b8f32",
   "metadata": {},
   "outputs": [
    {
     "data": {
      "text/html": [
       "<div>\n",
       "<style scoped>\n",
       "    .dataframe tbody tr th:only-of-type {\n",
       "        vertical-align: middle;\n",
       "    }\n",
       "\n",
       "    .dataframe tbody tr th {\n",
       "        vertical-align: top;\n",
       "    }\n",
       "\n",
       "    .dataframe thead th {\n",
       "        text-align: right;\n",
       "    }\n",
       "</style>\n",
       "<table border=\"1\" class=\"dataframe\">\n",
       "  <thead>\n",
       "    <tr style=\"text-align: right;\">\n",
       "      <th>True Class</th>\n",
       "      <th>A</th>\n",
       "      <th>C</th>\n",
       "      <th>F</th>\n",
       "    </tr>\n",
       "    <tr>\n",
       "      <th>MAP Class</th>\n",
       "      <th></th>\n",
       "      <th></th>\n",
       "      <th></th>\n",
       "    </tr>\n",
       "  </thead>\n",
       "  <tbody>\n",
       "    <tr>\n",
       "      <th>A</th>\n",
       "      <td>0</td>\n",
       "      <td>0</td>\n",
       "      <td>1</td>\n",
       "    </tr>\n",
       "    <tr>\n",
       "      <th>C</th>\n",
       "      <td>100</td>\n",
       "      <td>1913</td>\n",
       "      <td>627</td>\n",
       "    </tr>\n",
       "    <tr>\n",
       "      <th>F</th>\n",
       "      <td>0</td>\n",
       "      <td>165</td>\n",
       "      <td>372</td>\n",
       "    </tr>\n",
       "  </tbody>\n",
       "</table>\n",
       "</div>"
      ],
      "text/plain": [
       "True Class    A     C    F\n",
       "MAP Class                 \n",
       "A             0     0    1\n",
       "C           100  1913  627\n",
       "F             0   165  372"
      ]
     },
     "execution_count": 34,
     "metadata": {},
     "output_type": "execute_result"
    }
   ],
   "source": [
    "LDA_wine_observed.misclass_xtabs()"
   ]
  },
  {
   "cell_type": "markdown",
   "id": "57846a36-2f14-4e0a-b3a5-217d76cd5bea",
   "metadata": {},
   "source": [
    "### Misclassification against test set"
   ]
  },
  {
   "cell_type": "code",
   "execution_count": 35,
   "id": "d3c60be3-abfc-4a8c-867d-b39542a5b8c7",
   "metadata": {},
   "outputs": [
    {
     "data": {
      "text/plain": [
       "0.32732558139534884"
      ]
     },
     "execution_count": 35,
     "metadata": {},
     "output_type": "execute_result"
    }
   ],
   "source": [
    "LDA_wine_observed.misclass_rate(data=wine_test)"
   ]
  },
  {
   "cell_type": "code",
   "execution_count": 36,
   "id": "664e6759-56d1-4da4-9d92-c839095dbea5",
   "metadata": {},
   "outputs": [
    {
     "data": {
      "text/html": [
       "<div>\n",
       "<style scoped>\n",
       "    .dataframe tbody tr th:only-of-type {\n",
       "        vertical-align: middle;\n",
       "    }\n",
       "\n",
       "    .dataframe tbody tr th {\n",
       "        vertical-align: top;\n",
       "    }\n",
       "\n",
       "    .dataframe thead th {\n",
       "        text-align: right;\n",
       "    }\n",
       "</style>\n",
       "<table border=\"1\" class=\"dataframe\">\n",
       "  <thead>\n",
       "    <tr style=\"text-align: right;\">\n",
       "      <th>True Class</th>\n",
       "      <th>A</th>\n",
       "      <th>C</th>\n",
       "      <th>F</th>\n",
       "    </tr>\n",
       "    <tr>\n",
       "      <th>MAP Class</th>\n",
       "      <th></th>\n",
       "      <th></th>\n",
       "      <th></th>\n",
       "    </tr>\n",
       "  </thead>\n",
       "  <tbody>\n",
       "    <tr>\n",
       "      <th>C</th>\n",
       "      <td>79</td>\n",
       "      <td>923</td>\n",
       "      <td>406</td>\n",
       "    </tr>\n",
       "    <tr>\n",
       "      <th>F</th>\n",
       "      <td>1</td>\n",
       "      <td>77</td>\n",
       "      <td>234</td>\n",
       "    </tr>\n",
       "  </tbody>\n",
       "</table>\n",
       "</div>"
      ],
      "text/plain": [
       "True Class   A    C    F\n",
       "MAP Class               \n",
       "C           79  923  406\n",
       "F            1   77  234"
      ]
     },
     "execution_count": 36,
     "metadata": {},
     "output_type": "execute_result"
    }
   ],
   "source": [
    "LDA_wine_observed.misclass_xtabs(data=wine_test)"
   ]
  },
  {
   "cell_type": "markdown",
   "id": "3a32b859-576e-473d-a678-acc875f610da",
   "metadata": {},
   "source": [
    "The misclassification rate when using the observed proportion for the prior was 28% against the training set and 32.7% against the test set. It was interesting to note that there was only one prediction for wine quality A in the training set and no predictions for it in the test set. This is undestandable as the prior for quality A was only around 3%."
   ]
  },
  {
   "cell_type": "markdown",
   "id": "71b19b21-7b4e-461d-b4e9-f84d1586669f",
   "metadata": {},
   "source": [
    "### (1c) Priors that reflect the notion that most wines are awful, some wines are average, and few wines are good "
   ]
  },
  {
   "cell_type": "code",
   "execution_count": 37,
   "id": "4d121e24-b442-431f-9676-c51b033a5d18",
   "metadata": {},
   "outputs": [],
   "source": [
    "LDA_wine_1c = LDA(wine, 'wine_quality', [.10, .25, .65])"
   ]
  },
  {
   "cell_type": "markdown",
   "id": "f05cef5f-d515-464c-982b-d08180617af9",
   "metadata": {},
   "source": [
    "### Misclassification against training set"
   ]
  },
  {
   "cell_type": "code",
   "execution_count": 38,
   "id": "fc4ba60f-b434-4f70-b062-cc675d2e0d7b",
   "metadata": {},
   "outputs": [
    {
     "data": {
      "text/plain": [
       "0.5245437382001259"
      ]
     },
     "execution_count": 38,
     "metadata": {},
     "output_type": "execute_result"
    }
   ],
   "source": [
    "LDA_wine_1c.misclass_rate()"
   ]
  },
  {
   "cell_type": "code",
   "execution_count": 39,
   "id": "cfd1ef61-1fa7-47e6-965f-6c27905e0f68",
   "metadata": {},
   "outputs": [
    {
     "data": {
      "text/html": [
       "<div>\n",
       "<style scoped>\n",
       "    .dataframe tbody tr th:only-of-type {\n",
       "        vertical-align: middle;\n",
       "    }\n",
       "\n",
       "    .dataframe tbody tr th {\n",
       "        vertical-align: top;\n",
       "    }\n",
       "\n",
       "    .dataframe thead th {\n",
       "        text-align: right;\n",
       "    }\n",
       "</style>\n",
       "<table border=\"1\" class=\"dataframe\">\n",
       "  <thead>\n",
       "    <tr style=\"text-align: right;\">\n",
       "      <th>True Class</th>\n",
       "      <th>A</th>\n",
       "      <th>C</th>\n",
       "      <th>F</th>\n",
       "    </tr>\n",
       "    <tr>\n",
       "      <th>MAP Class</th>\n",
       "      <th></th>\n",
       "      <th></th>\n",
       "      <th></th>\n",
       "    </tr>\n",
       "  </thead>\n",
       "  <tbody>\n",
       "    <tr>\n",
       "      <th>A</th>\n",
       "      <td>28</td>\n",
       "      <td>137</td>\n",
       "      <td>4</td>\n",
       "    </tr>\n",
       "    <tr>\n",
       "      <th>C</th>\n",
       "      <td>34</td>\n",
       "      <td>540</td>\n",
       "      <td>53</td>\n",
       "    </tr>\n",
       "    <tr>\n",
       "      <th>F</th>\n",
       "      <td>38</td>\n",
       "      <td>1401</td>\n",
       "      <td>943</td>\n",
       "    </tr>\n",
       "  </tbody>\n",
       "</table>\n",
       "</div>"
      ],
      "text/plain": [
       "True Class   A     C    F\n",
       "MAP Class                \n",
       "A           28   137    4\n",
       "C           34   540   53\n",
       "F           38  1401  943"
      ]
     },
     "execution_count": 39,
     "metadata": {},
     "output_type": "execute_result"
    }
   ],
   "source": [
    "LDA_wine_1c.misclass_xtabs()"
   ]
  },
  {
   "cell_type": "markdown",
   "id": "5b8cf743-b8f8-4824-9308-265e0d38540f",
   "metadata": {},
   "source": [
    "### Misclassification against test set"
   ]
  },
  {
   "cell_type": "code",
   "execution_count": 40,
   "id": "d908ab2d-5271-4e21-94ef-070648573424",
   "metadata": {},
   "outputs": [
    {
     "data": {
      "text/plain": [
       "0.4767441860465116"
      ]
     },
     "execution_count": 40,
     "metadata": {},
     "output_type": "execute_result"
    }
   ],
   "source": [
    "LDA_wine_1c.misclass_rate(data= wine_test)"
   ]
  },
  {
   "cell_type": "code",
   "execution_count": 41,
   "id": "259c9a7b-22fd-4a4e-97f1-06f45c44fc22",
   "metadata": {},
   "outputs": [
    {
     "data": {
      "text/html": [
       "<div>\n",
       "<style scoped>\n",
       "    .dataframe tbody tr th:only-of-type {\n",
       "        vertical-align: middle;\n",
       "    }\n",
       "\n",
       "    .dataframe tbody tr th {\n",
       "        vertical-align: top;\n",
       "    }\n",
       "\n",
       "    .dataframe thead th {\n",
       "        text-align: right;\n",
       "    }\n",
       "</style>\n",
       "<table border=\"1\" class=\"dataframe\">\n",
       "  <thead>\n",
       "    <tr style=\"text-align: right;\">\n",
       "      <th>True Class</th>\n",
       "      <th>A</th>\n",
       "      <th>C</th>\n",
       "      <th>F</th>\n",
       "    </tr>\n",
       "    <tr>\n",
       "      <th>MAP Class</th>\n",
       "      <th></th>\n",
       "      <th></th>\n",
       "      <th></th>\n",
       "    </tr>\n",
       "  </thead>\n",
       "  <tbody>\n",
       "    <tr>\n",
       "      <th>A</th>\n",
       "      <td>20</td>\n",
       "      <td>79</td>\n",
       "      <td>2</td>\n",
       "    </tr>\n",
       "    <tr>\n",
       "      <th>C</th>\n",
       "      <td>29</td>\n",
       "      <td>269</td>\n",
       "      <td>27</td>\n",
       "    </tr>\n",
       "    <tr>\n",
       "      <th>F</th>\n",
       "      <td>31</td>\n",
       "      <td>652</td>\n",
       "      <td>611</td>\n",
       "    </tr>\n",
       "  </tbody>\n",
       "</table>\n",
       "</div>"
      ],
      "text/plain": [
       "True Class   A    C    F\n",
       "MAP Class               \n",
       "A           20   79    2\n",
       "C           29  269   27\n",
       "F           31  652  611"
      ]
     },
     "execution_count": 41,
     "metadata": {},
     "output_type": "execute_result"
    }
   ],
   "source": [
    "LDA_wine_1c.misclass_xtabs(data = wine_test)"
   ]
  },
  {
   "cell_type": "markdown",
   "id": "c9eca8e6-cee2-4961-bade-bf9ab4113620",
   "metadata": {},
   "source": [
    "Similar to the non-informative priors, these predictoins also resulted in very high misclassification rates. The rates were 52.5% against the training set and 47.7% against the test set. These priors seem to be no better than a non-informative prior and much worse than priors based on the observed proportion."
   ]
  },
  {
   "cell_type": "markdown",
   "id": "886a9514-a594-4f17-9a34-d7f8627d1e35",
   "metadata": {},
   "source": [
    "### (1d) Priors that somebody with terrible taste in wine would use (i.e. most wines are good, few wines are bad or average)"
   ]
  },
  {
   "cell_type": "code",
   "execution_count": 43,
   "id": "33e6728b-ce55-49be-b1c6-1c36fdec1bdf",
   "metadata": {},
   "outputs": [],
   "source": [
    "LDA_wine_1d = LDA(wine, 'wine_quality', [.6, .2, .2])"
   ]
  },
  {
   "cell_type": "markdown",
   "id": "3c348930-68f4-41a8-b846-b79b47457701",
   "metadata": {},
   "source": [
    "### Misclassification against training set"
   ]
  },
  {
   "cell_type": "code",
   "execution_count": 44,
   "id": "45e3d516-13f0-4648-8817-a1455827962f",
   "metadata": {},
   "outputs": [
    {
     "data": {
      "text/plain": [
       "0.7407174323473883"
      ]
     },
     "execution_count": 44,
     "metadata": {},
     "output_type": "execute_result"
    }
   ],
   "source": [
    "LDA_wine_1d.misclass_rate()"
   ]
  },
  {
   "cell_type": "code",
   "execution_count": 45,
   "id": "c1d26810-e63f-4ef2-b935-5bb74892803c",
   "metadata": {},
   "outputs": [
    {
     "data": {
      "text/html": [
       "<div>\n",
       "<style scoped>\n",
       "    .dataframe tbody tr th:only-of-type {\n",
       "        vertical-align: middle;\n",
       "    }\n",
       "\n",
       "    .dataframe tbody tr th {\n",
       "        vertical-align: top;\n",
       "    }\n",
       "\n",
       "    .dataframe thead th {\n",
       "        text-align: right;\n",
       "    }\n",
       "</style>\n",
       "<table border=\"1\" class=\"dataframe\">\n",
       "  <thead>\n",
       "    <tr style=\"text-align: right;\">\n",
       "      <th>True Class</th>\n",
       "      <th>A</th>\n",
       "      <th>C</th>\n",
       "      <th>F</th>\n",
       "    </tr>\n",
       "    <tr>\n",
       "      <th>MAP Class</th>\n",
       "      <th></th>\n",
       "      <th></th>\n",
       "      <th></th>\n",
       "    </tr>\n",
       "  </thead>\n",
       "  <tbody>\n",
       "    <tr>\n",
       "      <th>A</th>\n",
       "      <td>87</td>\n",
       "      <td>1537</td>\n",
       "      <td>330</td>\n",
       "    </tr>\n",
       "    <tr>\n",
       "      <th>C</th>\n",
       "      <td>4</td>\n",
       "      <td>94</td>\n",
       "      <td>27</td>\n",
       "    </tr>\n",
       "    <tr>\n",
       "      <th>F</th>\n",
       "      <td>9</td>\n",
       "      <td>447</td>\n",
       "      <td>643</td>\n",
       "    </tr>\n",
       "  </tbody>\n",
       "</table>\n",
       "</div>"
      ],
      "text/plain": [
       "True Class   A     C    F\n",
       "MAP Class                \n",
       "A           87  1537  330\n",
       "C            4    94   27\n",
       "F            9   447  643"
      ]
     },
     "execution_count": 45,
     "metadata": {},
     "output_type": "execute_result"
    }
   ],
   "source": [
    "LDA_wine_1d.misclass_xtabs()"
   ]
  },
  {
   "cell_type": "markdown",
   "id": "9c9fd569-9a5e-4a5b-9a32-f79683b4fd19",
   "metadata": {},
   "source": [
    "### Misclassification against training set"
   ]
  },
  {
   "cell_type": "code",
   "execution_count": 46,
   "id": "61f0586f-d738-4f37-80a7-b37047cd589f",
   "metadata": {},
   "outputs": [
    {
     "data": {
      "text/plain": [
       "0.7203488372093023"
      ]
     },
     "execution_count": 46,
     "metadata": {},
     "output_type": "execute_result"
    }
   ],
   "source": [
    "LDA_wine_1d.misclass_rate(data= wine_test)"
   ]
  },
  {
   "cell_type": "code",
   "execution_count": 47,
   "id": "d6e2e60a-4759-4934-9452-69fe4d023b83",
   "metadata": {},
   "outputs": [
    {
     "data": {
      "text/html": [
       "<div>\n",
       "<style scoped>\n",
       "    .dataframe tbody tr th:only-of-type {\n",
       "        vertical-align: middle;\n",
       "    }\n",
       "\n",
       "    .dataframe tbody tr th {\n",
       "        vertical-align: top;\n",
       "    }\n",
       "\n",
       "    .dataframe thead th {\n",
       "        text-align: right;\n",
       "    }\n",
       "</style>\n",
       "<table border=\"1\" class=\"dataframe\">\n",
       "  <thead>\n",
       "    <tr style=\"text-align: right;\">\n",
       "      <th>True Class</th>\n",
       "      <th>A</th>\n",
       "      <th>C</th>\n",
       "      <th>F</th>\n",
       "    </tr>\n",
       "    <tr>\n",
       "      <th>MAP Class</th>\n",
       "      <th></th>\n",
       "      <th></th>\n",
       "      <th></th>\n",
       "    </tr>\n",
       "  </thead>\n",
       "  <tbody>\n",
       "    <tr>\n",
       "      <th>A</th>\n",
       "      <td>72</td>\n",
       "      <td>756</td>\n",
       "      <td>230</td>\n",
       "    </tr>\n",
       "    <tr>\n",
       "      <th>C</th>\n",
       "      <td>0</td>\n",
       "      <td>35</td>\n",
       "      <td>36</td>\n",
       "    </tr>\n",
       "    <tr>\n",
       "      <th>F</th>\n",
       "      <td>8</td>\n",
       "      <td>209</td>\n",
       "      <td>374</td>\n",
       "    </tr>\n",
       "  </tbody>\n",
       "</table>\n",
       "</div>"
      ],
      "text/plain": [
       "True Class   A    C    F\n",
       "MAP Class               \n",
       "A           72  756  230\n",
       "C            0   35   36\n",
       "F            8  209  374"
      ]
     },
     "execution_count": 47,
     "metadata": {},
     "output_type": "execute_result"
    }
   ],
   "source": [
    "LDA_wine_1d.misclass_xtabs(data = wine_test)"
   ]
  },
  {
   "cell_type": "markdown",
   "id": "d11f4996-7eaa-4bef-a853-531ff81e1d0e",
   "metadata": {},
   "source": [
    "The misclassification rate using these priors is extremeley high at 74.1% against the training set and 72% agianst the test set. Looking at the cross-tabs table, it's evident that the model is over predicting class \"A\" when in reality, that class is the smallest in both the trainig and test set."
   ]
  },
  {
   "cell_type": "code",
   "execution_count": null,
   "id": "0023a086-87f4-4373-8618-148cf917155e",
   "metadata": {},
   "outputs": [],
   "source": []
  }
 ],
 "metadata": {
  "kernelspec": {
   "display_name": "Python 3 (ipykernel)",
   "language": "python",
   "name": "python3"
  },
  "language_info": {
   "codemirror_mode": {
    "name": "ipython",
    "version": 3
   },
   "file_extension": ".py",
   "mimetype": "text/x-python",
   "name": "python",
   "nbconvert_exporter": "python",
   "pygments_lexer": "ipython3",
   "version": "3.8.8"
  }
 },
 "nbformat": 4,
 "nbformat_minor": 5
}
